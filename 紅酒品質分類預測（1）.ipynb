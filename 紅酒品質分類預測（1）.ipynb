{
  "nbformat": 4,
  "nbformat_minor": 0,
  "metadata": {
    "colab": {
      "provenance": [],
      "authorship_tag": "ABX9TyPDIY2gXbp+p6mz67CCDhq5",
      "include_colab_link": true
    },
    "kernelspec": {
      "name": "python3",
      "display_name": "Python 3"
    },
    "language_info": {
      "name": "python"
    }
  },
  "cells": [
    {
      "cell_type": "markdown",
      "metadata": {
        "id": "view-in-github",
        "colab_type": "text"
      },
      "source": [
        "<a href=\"https://colab.research.google.com/github/ice4869/Prediction-of-quality-of-Wine/blob/main/%E7%B4%85%E9%85%92%E5%93%81%E8%B3%AA%E5%88%86%E9%A1%9E%E9%A0%90%E6%B8%AC%EF%BC%881%EF%BC%89.ipynb\" target=\"_parent\"><img src=\"https://colab.research.google.com/assets/colab-badge.svg\" alt=\"Open In Colab\"/></a>"
      ]
    },
    {
      "cell_type": "code",
      "execution_count": 1,
      "metadata": {
        "id": "8z5ZoFQK85y5"
      },
      "outputs": [],
      "source": [
        "import pandas as pd\n",
        "df = pd.read_csv('https://raw.githubusercontent.com/aniruddhachoudhury/Red-Wine-Quality/master/winequality-red.csv')"
      ]
    },
    {
      "cell_type": "markdown",
      "source": [
        "fixed acidity（固定酸度）：酒中的非揮發性酸的總含量。\n",
        "\n",
        "volatile acidity（揮發酸度）：酒中的揮發性酸的總含量。\n",
        "\n",
        "citric acid（檸檬酸）：酒中的檸檬酸含量。檸檬酸可為酒帶來柑橘風味。\n",
        "\n",
        "residual sugar（剩餘糖份）：發酵後剩餘的糖份量，以克/升（g/L）為單位。\n",
        "\n",
        "chlorides（氯化物）：酒中的鹽類含量，以克/升（g/L）為單位。\n",
        "\n",
        "free sulfur dioxide（游離二氧化硫）：在酒中溶解的游離二氧化硫（SO2）的量，以游離硫酸鹽形式存在。\n",
        "\n",
        "total sulfur dioxide（總二氧化硫）：游離二氧化硫（SO2）和與其他物質結合的二氧化硫（例如，與酒中的酒石酸結合）總量。\n",
        "\n",
        "density（密度）：酒的密度，以克/立方厘米（g/cm³）為單位。\n",
        "\n",
        "pH：酒的酸鹼度。較低的值表示酸性較高，較高的值表示酸性較低。\n",
        "\n",
        "sulphates（硫酸鹽）：酒中的硫酸鹽含量，以克/升（g/L）為單位。硫酸鹽可用於酒的防腐劑和抗氧化劑。\n",
        "\n",
        "alcohol（酒精）：酒中的酒精濃度，以百分比體積（% vol）為單位。\n",
        "\n",
        "quality（品質）：酒的品質評分，通常以整數形式表示（例如，從0到10的等級）。\n"
      ],
      "metadata": {
        "id": "Ae8qWJbB_Dhh"
      }
    },
    {
      "cell_type": "code",
      "source": [
        "# 顯示前幾筆資料\n",
        "print(df.head())\n",
        "\n",
        "# 觀察每個特徵欄位的資料分佈情況\n",
        "print(df.describe())"
      ],
      "metadata": {
        "colab": {
          "base_uri": "https://localhost:8080/"
        },
        "id": "QI0JS0Bv_n15",
        "outputId": "6ba66a8d-ecfe-4290-e5d1-66e001a84032"
      },
      "execution_count": 2,
      "outputs": [
        {
          "output_type": "stream",
          "name": "stdout",
          "text": [
            "   fixed acidity  volatile acidity  citric acid  residual sugar  chlorides  \\\n",
            "0            7.4              0.70         0.00             1.9      0.076   \n",
            "1            7.8              0.88         0.00             2.6      0.098   \n",
            "2            7.8              0.76         0.04             2.3      0.092   \n",
            "3           11.2              0.28         0.56             1.9      0.075   \n",
            "4            7.4              0.70         0.00             1.9      0.076   \n",
            "\n",
            "   free sulfur dioxide  total sulfur dioxide  density    pH  sulphates  \\\n",
            "0                 11.0                  34.0   0.9978  3.51       0.56   \n",
            "1                 25.0                  67.0   0.9968  3.20       0.68   \n",
            "2                 15.0                  54.0   0.9970  3.26       0.65   \n",
            "3                 17.0                  60.0   0.9980  3.16       0.58   \n",
            "4                 11.0                  34.0   0.9978  3.51       0.56   \n",
            "\n",
            "   alcohol  quality  \n",
            "0      9.4        5  \n",
            "1      9.8        5  \n",
            "2      9.8        5  \n",
            "3      9.8        6  \n",
            "4      9.4        5  \n",
            "       fixed acidity  volatile acidity  citric acid  residual sugar  \\\n",
            "count    1599.000000       1599.000000  1599.000000     1599.000000   \n",
            "mean        8.319637          0.527821     0.270976        2.538806   \n",
            "std         1.741096          0.179060     0.194801        1.409928   \n",
            "min         4.600000          0.120000     0.000000        0.900000   \n",
            "25%         7.100000          0.390000     0.090000        1.900000   \n",
            "50%         7.900000          0.520000     0.260000        2.200000   \n",
            "75%         9.200000          0.640000     0.420000        2.600000   \n",
            "max        15.900000          1.580000     1.000000       15.500000   \n",
            "\n",
            "         chlorides  free sulfur dioxide  total sulfur dioxide      density  \\\n",
            "count  1599.000000          1599.000000           1599.000000  1599.000000   \n",
            "mean      0.087467            15.874922             46.467792     0.996747   \n",
            "std       0.047065            10.460157             32.895324     0.001887   \n",
            "min       0.012000             1.000000              6.000000     0.990070   \n",
            "25%       0.070000             7.000000             22.000000     0.995600   \n",
            "50%       0.079000            14.000000             38.000000     0.996750   \n",
            "75%       0.090000            21.000000             62.000000     0.997835   \n",
            "max       0.611000            72.000000            289.000000     1.003690   \n",
            "\n",
            "                pH    sulphates      alcohol      quality  \n",
            "count  1599.000000  1599.000000  1599.000000  1599.000000  \n",
            "mean      3.311113     0.658149    10.422983     5.636023  \n",
            "std       0.154386     0.169507     1.065668     0.807569  \n",
            "min       2.740000     0.330000     8.400000     3.000000  \n",
            "25%       3.210000     0.550000     9.500000     5.000000  \n",
            "50%       3.310000     0.620000    10.200000     6.000000  \n",
            "75%       3.400000     0.730000    11.100000     6.000000  \n",
            "max       4.010000     2.000000    14.900000     8.000000  \n"
          ]
        }
      ]
    },
    {
      "cell_type": "code",
      "source": [
        "# 觀察 \"quality\" 標籤欄位的資料分佈情況\n",
        "quality_distribution = df['quality'].value_counts().sort_index()\n",
        "print(quality_distribution)"
      ],
      "metadata": {
        "colab": {
          "base_uri": "https://localhost:8080/"
        },
        "id": "Xc1BgIZ0_9Ik",
        "outputId": "0f3dfcbb-9224-4ab6-c435-38b384c49745"
      },
      "execution_count": 3,
      "outputs": [
        {
          "output_type": "stream",
          "name": "stdout",
          "text": [
            "3     10\n",
            "4     53\n",
            "5    681\n",
            "6    638\n",
            "7    199\n",
            "8     18\n",
            "Name: quality, dtype: int64\n"
          ]
        }
      ]
    },
    {
      "cell_type": "markdown",
      "source": [
        "從結果中可以觀察到以下情況：\n",
        "\n",
        "\"quality\" 的取值範圍從 3 到 8。\n",
        "大部分的紅酒樣本分布在品質評分 5 和 6 的範圍內，分別有 681 和 638 筆樣本。\n",
        "\n",
        "品質評分為 3、4、7 和 8 的樣本數量相對較少，分別為 10、53、199 和 18 筆樣本。"
      ],
      "metadata": {
        "id": "XsN8kTLcAIfs"
      }
    }
  ]
}