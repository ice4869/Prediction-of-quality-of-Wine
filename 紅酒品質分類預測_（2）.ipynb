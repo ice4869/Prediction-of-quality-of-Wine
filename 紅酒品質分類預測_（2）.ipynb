{
  "nbformat": 4,
  "nbformat_minor": 0,
  "metadata": {
    "colab": {
      "provenance": [],
      "authorship_tag": "ABX9TyNKxO0L4tRmpD9tYwjWWQDO",
      "include_colab_link": true
    },
    "kernelspec": {
      "name": "python3",
      "display_name": "Python 3"
    },
    "language_info": {
      "name": "python"
    }
  },
  "cells": [
    {
      "cell_type": "markdown",
      "metadata": {
        "id": "view-in-github",
        "colab_type": "text"
      },
      "source": [
        "<a href=\"https://colab.research.google.com/github/ice4869/Prediction-of-quality-of-Wine/blob/main/%E7%B4%85%E9%85%92%E5%93%81%E8%B3%AA%E5%88%86%E9%A1%9E%E9%A0%90%E6%B8%AC_%EF%BC%882%EF%BC%89.ipynb\" target=\"_parent\"><img src=\"https://colab.research.google.com/assets/colab-badge.svg\" alt=\"Open In Colab\"/></a>"
      ]
    },
    {
      "cell_type": "markdown",
      "source": [
        "1. 在資料分析的工作流程中，在不考慮準確度情況下有哪些必備的環節？\n",
        "\n",
        "資料收集：確保有可靠和相關的資料來源，這可能包括從內部系統、外部資料庫或第三方資料提供商獲取資料。\n",
        "\n",
        "數據清理和預處理：進行資料清理，包括處理缺失值、處理異常值、解決重複數據等。同時，進行數據預處理，如特徵縮放、類別特徵編碼等。\n",
        "\n",
        "探索性數據分析（EDA）：通過視覺化和摘要統計來瞭解資料的特徵、分佈和相關性，發現潛在的模式、趨勢和關聯。\n",
        "\n",
        "特徵選擇和特徵工程：根據EDA的結果，選擇最有用的特徵變量，並進行特徵轉換、生成新特徵或降維等工作。\n",
        "\n",
        "建立模型：選擇合適的模型或算法來分析資料，根據問題的性質可能選擇迴歸模型、分類模型、聚類模型等。\n",
        "\n",
        "模型評估：使用適當的評估指標來評估模型的性能和準確度，以確定模型的效果。\n",
        "\n",
        "*結果解釋和報告：解釋模型的結果和所得結論，以及提出相關建議或行動方案。撰寫報告或可視化呈現，以清晰地傳達分析的結果。*\n"
      ],
      "metadata": {
        "id": "2bkLE19QCcck"
      }
    },
    {
      "cell_type": "code",
      "source": [
        "import pandas as pd \n",
        "from sklearn.model_selection import cross_val_score\n",
        "from sklearn.model_selection import train_test_split\n",
        "from sklearn.ensemble import RandomForestClassifier\n",
        "\n",
        "# 讀取資料集\n",
        "df = pd.read_csv('https://raw.githubusercontent.com/aniruddhachoudhury/Red-Wine-Quality/master/winequality-red.csv')\n",
        "\n",
        "# 資料前處理\n",
        "df_train = df.copy()  # 創建資料集的副本，以防止修改原始資料\n",
        "# 在這裡可以進行必要的資料前處理步驟，例如處理缺失值、特徵縮放、類別特徵編碼等\n",
        "\n",
        "df_train.head()\n",
        "#資料清洗\n",
        "df_train.isnull().sum()\n",
        "\n",
        "# 分割特徵和標籤\n",
        "X = df_train.drop('quality' , axis = 1)\n",
        "y = df_train['quality']\n",
        "\n",
        "# 分割訓練集和測試集\n",
        "X_train , X_test , y_train , y_test = train_test_split(X , y , test_size = 0.2 , random_state = 42)\n",
        "\n",
        "# 建立並評估模型\n",
        "rfc = RandomForestClassifier(n_estimators = 200)\n",
        "rfc_eval = cross_val_score(estimator = rfc , X = X_train , y=y_train , cv = 5)\n",
        "print(rfc_eval)"
      ],
      "metadata": {
        "colab": {
          "base_uri": "https://localhost:8080/"
        },
        "id": "oO_6JayGDQrA",
        "outputId": "53da68f4-5985-4a6c-f15c-56c48ada26d5"
      },
      "execution_count": 7,
      "outputs": [
        {
          "output_type": "stream",
          "name": "stdout",
          "text": [
            "[0.66015625 0.6875     0.6640625  0.6875     0.7372549 ]\n"
          ]
        }
      ]
    }
  ]
}